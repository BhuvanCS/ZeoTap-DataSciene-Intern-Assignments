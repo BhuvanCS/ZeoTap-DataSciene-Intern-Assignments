{
 "cells": [
  {
   "cell_type": "code",
   "execution_count": 1,
   "metadata": {},
   "outputs": [],
   "source": [
    "import pandas as pd\n",
    "from sklearn.preprocessing import StandardScaler, OneHotEncoder\n",
    "from sklearn.metrics.pairwise import cosine_similarity\n",
    "\n",
    "customers = pd.read_csv(\"Customers.csv\")\n",
    "transactions = pd.read_csv(\"Transactions.csv\")\n",
    "products = pd.read_csv(\"Products.csv\")\n",
    "\n",
    "transactions = transactions.merge(products, on=\"ProductID\", how=\"left\")\n"
   ]
  },
  {
   "cell_type": "code",
   "execution_count": 7,
   "metadata": {},
   "outputs": [],
   "source": [
    "# Grouping transactions by customerID and creating new fields like total spendings, frequency of purchase and avg val\n",
    "customer_txn = transactions.groupby(\"CustomerID\").agg(\n",
    "    TotalSpend=(\"TotalValue\", \"sum\"),\n",
    "    Frequency=(\"TransactionID\", \"count\"),\n",
    "    AvgOrderValue=(\"TotalValue\", \"mean\")\n",
    ").reset_index()\n",
    "\n",
    "df = customers.merge(customer_txn, on=\"CustomerID\", how=\"left\").fillna(0)\n"
   ]
  },
  {
   "cell_type": "code",
   "execution_count": 8,
   "metadata": {},
   "outputs": [],
   "source": [
    "# converting region values from categorical var to numerical var\n",
    "encoder = OneHotEncoder(sparse_output=False, drop=\"first\")\n",
    "region_encoded = encoder.fit_transform(df[[\"Region\"]])\n",
    "region_df = pd.DataFrame(region_encoded, columns=encoder.get_feature_names_out([\"Region\"]))\n",
    "df = pd.concat([df.drop(columns=[\"Region\", \"CustomerName\", \"SignupDate\"]), region_df], axis=1)\n",
    "\n",
    "# Scaling all numerical data between 0 and 1 for easy calculations\n",
    "scaler = StandardScaler()\n",
    "numerical_cols = [\"TotalSpend\", \"Frequency\", \"AvgOrderValue\"]\n",
    "df[numerical_cols] = scaler.fit_transform(df[numerical_cols])"
   ]
  },
  {
   "cell_type": "code",
   "execution_count": null,
   "metadata": {},
   "outputs": [],
   "source": [
    "similarity_matrix = cosine_similarity(df.drop(columns=[\"CustomerID\"]))\n",
    "#Similarity between customers is calculated based on their region, total spending amount, frequency of spending and average order value\n",
    "#These basic attributes can be used to compare customer to customer\n"
   ]
  },
  {
   "cell_type": "code",
   "execution_count": 10,
   "metadata": {},
   "outputs": [
    {
     "name": "stdout",
     "output_type": "stream",
     "text": [
      "Lookalike Model execution complete. Results saved in Lookalike.csv ✅\n"
     ]
    }
   ],
   "source": [
    "lookalikes = {}\n",
    "\n",
    "for idx, customer_id in enumerate(df[\"CustomerID\"][:20]):  # First 20 customers\n",
    "    sim_scores = list(enumerate(similarity_matrix[idx]))\n",
    "    sim_scores = sorted(sim_scores, key=lambda x: x[1], reverse=True)[1:4]  # Top 3 (excluding self)\n",
    "    \n",
    "    top_3 = [(df.iloc[i][\"CustomerID\"], round(score, 4)) for i, score in sim_scores]\n",
    "    lookalikes[customer_id] = top_3\n",
    "\n",
    "lookalike_df = pd.DataFrame(list(lookalikes.items()), columns=[\"CustomerID\", \"Lookalikes\"])\n",
    "lookalike_df.to_csv(\"Lookalike.csv\", index=False)\n",
    "\n",
    "print(\"Lookalike Model execution complete. Results saved in Lookalike.csv ✅\")\n"
   ]
  }
 ],
 "metadata": {
  "kernelspec": {
   "display_name": "Python 3",
   "language": "python",
   "name": "python3"
  },
  "language_info": {
   "codemirror_mode": {
    "name": "ipython",
    "version": 3
   },
   "file_extension": ".py",
   "mimetype": "text/x-python",
   "name": "python",
   "nbconvert_exporter": "python",
   "pygments_lexer": "ipython3",
   "version": "3.12.1"
  }
 },
 "nbformat": 4,
 "nbformat_minor": 2
}
